{
  "nbformat": 4,
  "nbformat_minor": 0,
  "metadata": {
    "colab": {
      "provenance": [],
      "authorship_tag": "ABX9TyOjmO5akC/QrBWtO70IKMun",
      "include_colab_link": true
    },
    "kernelspec": {
      "name": "python3",
      "display_name": "Python 3"
    },
    "language_info": {
      "name": "python"
    },
    "accelerator": "GPU",
    "gpuClass": "standard"
  },
  "cells": [
    {
      "cell_type": "markdown",
      "metadata": {
        "id": "view-in-github",
        "colab_type": "text"
      },
      "source": [
        "<a href=\"https://colab.research.google.com/github/averma12/Fastai-p22022-nbs-notes/blob/main/Matrix_Multiplications_from_foundations.ipynb\" target=\"_parent\"><img src=\"https://colab.research.google.com/assets/colab-badge.svg\" alt=\"Open In Colab\"/></a>"
      ]
    },
    {
      "cell_type": "code",
      "execution_count": 2,
      "metadata": {
        "id": "g_-niRwYS-wd"
      },
      "outputs": [],
      "source": [
        "from pathlib import Path\n",
        "import pickle, gzip, math, os, time, shutil, matplotlib as mpl, matplotlib.pyplot as plt"
      ]
    },
    {
      "cell_type": "markdown",
      "source": [
        "We are importing some base libraries which are needed for matrix multiplication from scratch."
      ],
      "metadata": {
        "id": "awFOu5ynUIOx"
      }
    },
    {
      "cell_type": "markdown",
      "source": [
        "Path is a class from the pathlib module that provides an object-oriented way of working with file paths. pickle is a module that allows you to serialize Python objects, which means you can convert them into a format that can be stored on disk or transmitted over a network. gzip is a module that provides support for gzip compression and decompression. math is a module that provides access to mathematical functions. os is a module that provides a way of using operating system dependent functionality. time is a module that provides functions for working with time. shutil is a module that provides functions for copying and deleting files. matplotlib is a plotting library for creating static, animated, and interactive visualizations in Python. mpl is a namespace within matplotlib that provides a way to access certain functionality from the library. plt is a function within matplotlib that provides a way to create plots."
      ],
      "metadata": {
        "id": "IPH1f_3fUgux"
      }
    },
    {
      "cell_type": "code",
      "source": [
        "MNIST_URL='https://github.com/mnielsen/neural-networks-and-deep-learning/blob/master/data/mnist.pkl.gz?raw=true'\n",
        "path_data = Path('data')\n",
        "path_data.mkdir(exist_ok=True)\n",
        "path_gz = path_data/'mnist.pkl.gz'"
      ],
      "metadata": {
        "id": "Fr3VcdRHUf87"
      },
      "execution_count": 3,
      "outputs": []
    },
    {
      "cell_type": "markdown",
      "source": [
        "Let's look at the above code step by step\n",
        "1. The MNIST_URL is a variable pointing to a URL that we can use to download the MNIST dataset\n",
        "2. path_data is a variable that creates a Path object representing a directory called data in the current working directory. This does not create a directory, the next line creates the directory\n",
        "3. This creates a directory data in the cwd. It checks if the data directory exists. If not it creates the directory\n",
        "4. Creates another Path object by combining the path_data object with the filename mnist.pkl.gz. This Path object represents the file mnist.pkl.gz in the data directory. Note: This does not create a file mnist_pkl.gz but it creates the object. The file will be created in the next line"
      ],
      "metadata": {
        "id": "0nbAJxHwYUHB"
      }
    },
    {
      "cell_type": "markdown",
      "source": [
        "Next we will download the file using urlretrieve. urlretrieve is a function from the urllib.request module in Python that allows you to download a file from a URL and save it to your local file system. Here's an example of how you might use urlretrieve to download a file:\n",
        "\n",
        "\\begin{lstlisting}\n",
        "from urllib.request import urlretrieve\n",
        "\n",
        "# URL of the file to download\n",
        "url = \"https://www.example.com/files/file.zip\"\n",
        "\n",
        "# Local path where the file will be saved\n",
        "local_path = \"C:/Users/myuser/Downloads/file.zip\"\n",
        "\n",
        "# Download the file\n",
        "urlretrieve(url, local_path)\n",
        "\\end{lstlisting}\n"
      ],
      "metadata": {
        "id": "PPVL2D-SZ0eI"
      }
    },
    {
      "cell_type": "code",
      "source": [
        "from urllib.request import urlretrieve\n",
        "if not path_gz.exists(): urlretrieve(MNIST_URL, path_gz) # Download the Mnist data and save it to the path_gz defined. If exists this snippet won't be called.\n"
      ],
      "metadata": {
        "id": "MPUs8QCLUQsy"
      },
      "execution_count": 4,
      "outputs": []
    },
    {
      "cell_type": "markdown",
      "source": [
        "The code you provided is a command that can be run from a terminal or command prompt. It consists of the ls command, which is used to list the contents of a directory, and the -l flag, which tells ls to display the output in a long format that includes additional details about the files and directories in the specified directory.\n",
        "\n",
        "The ! tells jupyter to execute this as a shell command"
      ],
      "metadata": {
        "id": "5gHBJAgDa_T2"
      }
    },
    {
      "cell_type": "code",
      "source": [
        "!ls -l data # The total here specifies the size of the file in kilobytes"
      ],
      "metadata": {
        "colab": {
          "base_uri": "https://localhost:8080/"
        },
        "id": "Rqeynvxcal0j",
        "outputId": "7b4a331b-e63f-495e-9942-cc54c146e406"
      },
      "execution_count": 5,
      "outputs": [
        {
          "output_type": "stream",
          "name": "stdout",
          "text": [
            "total 16656\n",
            "-rw-r--r-- 1 root root 17051982 Dec 10 17:23 mnist.pkl.gz\n"
          ]
        }
      ]
    },
    {
      "cell_type": "code",
      "source": [
        "with gzip.open(path_gz, 'rb') as f: ((x_train, y_train), (x_valid, y_valid), _) = pickle.load(f, encoding='latin-1')"
      ],
      "metadata": {
        "id": "xKfoGhy-be5f"
      },
      "execution_count": 6,
      "outputs": []
    },
    {
      "cell_type": "markdown",
      "source": [
        "We are now using the gzip module over the file stored in path_gz. We open the file using the with context in binary read mode. The file object is assigned to the variable f, which is used to read data from the file. \n",
        "\n",
        "After the file is opened, the code uses the pickle module to deserialize the data in the file. This means that it converts the data in the file from a serialized format (i.e., a binary representation of a Python object) back into a Python object. In this case, the data in the file is expected to be a tuple containing three other tuples, which are themselves expected to contain pairs of arrays. The pickle.load method is used to deserialize the data and assign it to a tuple of three tuples, which are then assigned to the variables (x_train, y_train), (x_valid, y_valid), _.\n",
        "\n",
        "This code relies on the assumption that the data in the file is correctly formatted and that the file can be successfully opened and read. If either of these assumptions is not met, the code may produce an error. For example, if the file does not exist or is not a valid gzip-compressed file, the gzip.open function will raise an error. If the data in the file is not in the expected format, the pickle.load function will raise an error. In either case, the code will not execute successfully.\n",
        "\n",
        "\n",
        "\n",
        "\n"
      ],
      "metadata": {
        "id": "y8VRa_necm4w"
      }
    },
    {
      "cell_type": "code",
      "source": [
        "lst1 = list(x_train[0]) ##Here we look at the first example of the train dataset\n",
        "vals = lst1[200:210]\n",
        "vals"
      ],
      "metadata": {
        "colab": {
          "base_uri": "https://localhost:8080/"
        },
        "id": "FV3Q9Y7Rc__K",
        "outputId": "37ae56cf-34c4-4248-84ab-af0a439bd1c7"
      },
      "execution_count": 7,
      "outputs": [
        {
          "output_type": "execute_result",
          "data": {
            "text/plain": [
              "[0.0,\n",
              " 0.0,\n",
              " 0.0,\n",
              " 0.19140625,\n",
              " 0.9296875,\n",
              " 0.98828125,\n",
              " 0.98828125,\n",
              " 0.98828125,\n",
              " 0.98828125,\n",
              " 0.98828125]"
            ]
          },
          "metadata": {},
          "execution_count": 7
        }
      ]
    },
    {
      "cell_type": "code",
      "source": [
        "## What is the len of each item in x_train\n",
        "len(lst1)"
      ],
      "metadata": {
        "colab": {
          "base_uri": "https://localhost:8080/"
        },
        "id": "KIjqXpN4icSY",
        "outputId": "77ee4954-c7a2-4a6a-bf58-f828ff4b2544"
      },
      "execution_count": 8,
      "outputs": [
        {
          "output_type": "execute_result",
          "data": {
            "text/plain": [
              "784"
            ]
          },
          "metadata": {},
          "execution_count": 8
        }
      ]
    },
    {
      "cell_type": "markdown",
      "source": [
        "Why 784. Because it is a 28 * 28 image."
      ],
      "metadata": {
        "id": "5sM4lLJzjKfo"
      }
    },
    {
      "cell_type": "code",
      "source": [
        "## Now we want to use this to create a matrix of 28 * 28. \n",
        "## We want to do this because we want to render this image using matplotlib\n",
        "## so now we look at creating this image using python tricks"
      ],
      "metadata": {
        "id": "dzaensjjjPLy"
      },
      "execution_count": 9,
      "outputs": []
    },
    {
      "cell_type": "code",
      "source": [
        "def chunks(x, sz):\n",
        "    for i in range(0, len(x), sz): yield x[i:i+sz]"
      ],
      "metadata": {
        "id": "op04gUvOjw45"
      },
      "execution_count": 10,
      "outputs": []
    },
    {
      "cell_type": "markdown",
      "source": [
        "The function returns an iterator that yields consecutive chunks of the input x, where each chunk has a size of sz elements.\n",
        "\n"
      ],
      "metadata": {
        "id": "QUiox_6AGDbg"
      }
    },
    {
      "cell_type": "code",
      "source": [
        "##Example of chunks code\n",
        "# Create a list of numbers from 1 to 10\n",
        "x = [1, 2, 3, 4, 5, 6, 7, 8, 9, 10]\n",
        "\n",
        "# Create an iterator that yields chunks of size 3\n",
        "chunk_iter = chunks(x, 3)\n",
        "\n",
        "# Print each chunk\n",
        "for chunk in chunk_iter:\n",
        "    print(chunk)\n"
      ],
      "metadata": {
        "colab": {
          "base_uri": "https://localhost:8080/"
        },
        "id": "LyMI4g59F8ci",
        "outputId": "ad283e9c-e75c-4349-a501-53b842d449a8"
      },
      "execution_count": 11,
      "outputs": [
        {
          "output_type": "stream",
          "name": "stdout",
          "text": [
            "[1, 2, 3]\n",
            "[4, 5, 6]\n",
            "[7, 8, 9]\n",
            "[10]\n"
          ]
        }
      ]
    },
    {
      "cell_type": "code",
      "source": [
        "## So let's use for our use case\n",
        "list(chunks(vals, 5)) ## this prints all the iterations as part of a list."
      ],
      "metadata": {
        "colab": {
          "base_uri": "https://localhost:8080/"
        },
        "id": "gr4vFfXqGKFv",
        "outputId": "99077f42-f6a1-4483-eec9-b7c0298b756b"
      },
      "execution_count": 12,
      "outputs": [
        {
          "output_type": "execute_result",
          "data": {
            "text/plain": [
              "[[0.0, 0.0, 0.0, 0.19140625, 0.9296875],\n",
              " [0.98828125, 0.98828125, 0.98828125, 0.98828125, 0.98828125]]"
            ]
          },
          "metadata": {},
          "execution_count": 12
        }
      ]
    },
    {
      "cell_type": "code",
      "source": [
        "## Now we want this to show 28 * 28 images. \n",
        "## We will pass this to matplotlib to render the image\n",
        "## matplotlib needs the values as a 2D array."
      ],
      "metadata": {
        "id": "xYCGKoMmH8RH"
      },
      "execution_count": null,
      "outputs": []
    },
    {
      "cell_type": "code",
      "source": [
        "mpl.rcParams['image.cmap'] = 'jet'\n",
        "plt.imshow(list(chunks(lst1, 28)));"
      ],
      "metadata": {
        "colab": {
          "base_uri": "https://localhost:8080/",
          "height": 265
        },
        "id": "k5AcM3BjISI4",
        "outputId": "d983cdae-23ba-4f5f-c277-e4e4a4155fe5"
      },
      "execution_count": 14,
      "outputs": [
        {
          "output_type": "display_data",
          "data": {
            "text/plain": [
              "<Figure size 432x288 with 1 Axes>"
            ],
            "image/png": "[encoded data removed]"
          },
          "metadata": {
            "needs_background": "light"
          }
        }
      ]
    },
    {
      "cell_type": "markdown",
      "source": [
        "The first line of the code sets a default colormap for images to gray, which tells matplotlib to use the gray colormap when plotting images. This means that the image will be displayed in grayscale, with black pixels representing low intensity values and white pixels representing high intensity values.\n",
        "\n",
        "The second line of code uses the plt.imshow function to plot the image. The input to this function is the result of calling the chunks function on the lst1 variable, with a chunk size of 28. This means that the chunks function will split lst1 into consecutive chunks of size 28 and return an iterator that yields these chunks. The plt.imshow function then plots each chunk as a row in the image, with the first chunk representing the top row and the last chunk representing the bottom row.\n",
        "\n",
        "We can experiment with different colors for the colormap. for grayscale images the best color is gray, but I tried jet for experiments."
      ],
      "metadata": {
        "id": "jRcXmn1qI_Bm"
      }
    },
    {
      "cell_type": "markdown",
      "source": [
        "- A colormap is a mapping of data values to colors.\n",
        "- Colormaps are used to specify the colors that should be used to represent different data values in a plot.\n",
        "- There are many built-in colormaps available in `matplotlib`, such as `gray`, `viridis`, and `jet`.\n",
        "- You can also define your own custom colormaps if desired.\n",
        "- The choice of colormap can have a significant impact on the appearance of a plot.\n",
        "- When plotting a grayscale image, it is recommended to use a grayscale colormap, such as `gray`, to accurately represent the intensity values in the image.\n",
        "- To specify a colormap when plotting data with `matplotlib`, you can use the `cmap` parameter of the `imshow` or `pcolor` function. For example:\n",
        "\n",
        "\\begin{lstlisting}\n",
        "#Plot data using the \"viridis\" colormap\n",
        "plt.imshow(data, cmap=\"viridis\")\n",
        "\\end{lstlisting}"
      ],
      "metadata": {
        "id": "g0be8H1kKAcU"
      }
    },
    {
      "cell_type": "code",
      "source": [
        "# Plot data using the \"viridis\" colormap\n",
        "plt.imshow(list(chunks(lst1, 28)), cmap=\"viridis\")"
      ],
      "metadata": {
        "colab": {
          "base_uri": "https://localhost:8080/",
          "height": 283
        },
        "id": "ooyhY4maI9hl",
        "outputId": "f254976b-3c02-443b-a3b2-28fd39a5c048"
      },
      "execution_count": 15,
      "outputs": [
        {
          "output_type": "execute_result",
          "data": {
            "text/plain": [
              "<matplotlib.image.AxesImage at 0x7fc05fe654c0>"
            ]
          },
          "metadata": {},
          "execution_count": 15
        },
        {
          "output_type": "display_data",
          "data": {
            "text/plain": [
              "<Figure size 432x288 with 1 Axes>"
            ],
            "image/png": "[encoded data removed]"
          },
          "metadata": {
            "needs_background": "light"
          }
        }
      ]
    },
    {
      "cell_type": "code",
      "source": [
        "from itertools import islice"
      ],
      "metadata": {
        "id": "FnPsoLPAKie5"
      },
      "execution_count": 16,
      "outputs": []
    },
    {
      "cell_type": "markdown",
      "source": [
        "## A brief word about itertools\n",
        "Itertools is a module in Python that provides various functions which work on iterators to produce complex iterators. It is designed to be memory efficient, and it enables us to iterate over data structures such as lists and strings.\n",
        "\n",
        "An iterator is an object that produces a sequence of values, one at a time, when it is iterated over in a for loop or with other language constructs. The itertools library provides many functions for creating and manipulating iterators, which can be useful for working with large amounts of data in a memory-efficient way.\n",
        "\n",
        "One of the most commonly used Itertools functions is islice(). It takes 4 parameters, an iterable container, start position, end position, and step size. The islice() function selectively prints the values mentioned in its iterable container passed as an argument. For example, if we have a list of numbers, we can use islice() to extract certain elements from that list.\n",
        "\n",
        "Here's an example of using the islice class to create a new iterator that produces only the first 10 values from an input iterator:"
      ],
      "metadata": {
        "id": "Fa2XwQoAMbkN"
      }
    },
    {
      "cell_type": "code",
      "source": [
        "from itertools import islice\n",
        "  \n",
        "  \n",
        "# Slicing the range function\n",
        "for i in islice(range(20), 5): \n",
        "    print(i)\n",
        "      \n",
        "      \n",
        "li = [2, 4, 5, 7, 8, 10, 20] \n",
        "  \n",
        "# Slicing the list\n",
        "print(list(islice(li, 1, 6, 2))) "
      ],
      "metadata": {
        "colab": {
          "base_uri": "https://localhost:8080/"
        },
        "id": "moMqeymsMa77",
        "outputId": "88a11cf0-a899-4a51-b09a-e5fa76a29d31"
      },
      "execution_count": 18,
      "outputs": [
        {
          "output_type": "stream",
          "name": "stdout",
          "text": [
            "0\n",
            "1\n",
            "2\n",
            "3\n",
            "4\n",
            "[4, 7, 10]\n"
          ]
        }
      ]
    },
    {
      "cell_type": "code",
      "source": [
        "it = iter(vals)\n",
        "islice(it, 5)"
      ],
      "metadata": {
        "colab": {
          "base_uri": "https://localhost:8080/"
        },
        "id": "gTBY5gtYMaEh",
        "outputId": "7d673503-a95b-436f-a6fa-6b37b39b5272"
      },
      "execution_count": 47,
      "outputs": [
        {
          "output_type": "execute_result",
          "data": {
            "text/plain": [
              "<itertools.islice at 0x7fc05fdd4cc0>"
            ]
          },
          "metadata": {},
          "execution_count": 47
        }
      ]
    },
    {
      "cell_type": "markdown",
      "source": [
        "The above code defines a variable named it that contains an iterator over the values in a list named vals. The code then calls the islice function from the itertools library, passing it as the first argument and 5 as the second argument. This creates a new iterator that produces only the first five values from the input iterator it.\n",
        "\n",
        "The islice function is used to create a new iterator that produces a slice of an input iterator, starting at a specified start index and ending at a specified stop index. This allows you to create a new iterator that produces only a subset of the values from the original iterator. In this case, the code is using the islice function to create a new iterator that produces only the first five values from the input iterator it.\n",
        "\n",
        "It is worth noting that the code you provided does not actually do anything with the new iterator returned by the islice function. In order to use the new iterator, you would need to iterate over it in a for loop or with other language constructs."
      ],
      "metadata": {
        "id": "uNjjsj_eXClD"
      }
    },
    {
      "cell_type": "code",
      "source": [
        "first_five = islice(it, 5)\n",
        "\n",
        "# Iterate over the first 5 values from the input iterator\n",
        "for val in first_five:\n",
        "    # Do something with the value\n",
        "    print(val)"
      ],
      "metadata": {
        "colab": {
          "base_uri": "https://localhost:8080/"
        },
        "id": "4lmRKL3SWqji",
        "outputId": "362a0247-d776-43db-b99a-27b58d695a73"
      },
      "execution_count": 49,
      "outputs": [
        {
          "output_type": "stream",
          "name": "stdout",
          "text": [
            "0.0\n",
            "0.0\n",
            "0.19140625\n",
            "0.9296875\n",
            "0.98828125\n"
          ]
        }
      ]
    },
    {
      "cell_type": "code",
      "source": [
        "vals"
      ],
      "metadata": {
        "colab": {
          "base_uri": "https://localhost:8080/"
        },
        "id": "Dclpm1xRVxHi",
        "outputId": "33adb5e7-7d72-405f-b4e5-4c4ad620daec"
      },
      "execution_count": 32,
      "outputs": [
        {
          "output_type": "execute_result",
          "data": {
            "text/plain": [
              "[0.0,\n",
              " 0.0,\n",
              " 0.0,\n",
              " 0.19140625,\n",
              " 0.9296875,\n",
              " 0.98828125,\n",
              " 0.98828125,\n",
              " 0.98828125,\n",
              " 0.98828125,\n",
              " 0.98828125]"
            ]
          },
          "metadata": {},
          "execution_count": 32
        }
      ]
    },
    {
      "cell_type": "code",
      "source": [
        "next(islice(it,5))"
      ],
      "metadata": {
        "colab": {
          "base_uri": "https://localhost:8080/"
        },
        "id": "cvNmqJxWVjep",
        "outputId": "f6fadbd6-f305-4ea3-846f-3064f8a0eec7"
      },
      "execution_count": 41,
      "outputs": [
        {
          "output_type": "execute_result",
          "data": {
            "text/plain": [
              "0.98828125"
            ]
          },
          "metadata": {},
          "execution_count": 41
        }
      ]
    },
    {
      "cell_type": "code",
      "source": [
        "list(islice(it, 5))"
      ],
      "metadata": {
        "colab": {
          "base_uri": "https://localhost:8080/"
        },
        "id": "qSvm7cs5WB8g",
        "outputId": "d1813ba4-b64a-4f2e-d5a9-d5ade92efd8f"
      },
      "execution_count": 44,
      "outputs": [
        {
          "output_type": "execute_result",
          "data": {
            "text/plain": [
              "[0.0, 0.0, 0.0, 0.19140625, 0.9296875]"
            ]
          },
          "metadata": {},
          "execution_count": 44
        }
      ]
    },
    {
      "cell_type": "code",
      "source": [
        "list(islice(it, 5))"
      ],
      "metadata": {
        "colab": {
          "base_uri": "https://localhost:8080/"
        },
        "id": "q861box0WIhX",
        "outputId": "cebca8ff-9f17-4fe6-ba5e-b65f3a7a792d"
      },
      "execution_count": 45,
      "outputs": [
        {
          "output_type": "execute_result",
          "data": {
            "text/plain": [
              "[0.98828125, 0.98828125, 0.98828125, 0.98828125, 0.98828125]"
            ]
          },
          "metadata": {},
          "execution_count": 45
        }
      ]
    },
    {
      "cell_type": "code",
      "source": [
        "list(islice(it, 5))"
      ],
      "metadata": {
        "colab": {
          "base_uri": "https://localhost:8080/"
        },
        "id": "3TLKPVDtWKOk",
        "outputId": "75ba1fb2-11de-4a26-b3e5-495245edcd03"
      },
      "execution_count": 46,
      "outputs": [
        {
          "output_type": "execute_result",
          "data": {
            "text/plain": [
              "[]"
            ]
          },
          "metadata": {},
          "execution_count": 46
        }
      ]
    },
    {
      "cell_type": "markdown",
      "source": [],
      "metadata": {
        "id": "JknI5XcLWv4D"
      }
    },
    {
      "cell_type": "code",
      "source": [
        "it = iter(lst1)\n",
        "img = list(iter(lambda: list(islice(it, 28)), []))"
      ],
      "metadata": {
        "id": "F-wfm1j4ZWX-"
      },
      "execution_count": 50,
      "outputs": []
    },
    {
      "cell_type": "code",
      "source": [
        "plt.imshow(img);"
      ],
      "metadata": {
        "colab": {
          "base_uri": "https://localhost:8080/",
          "height": 265
        },
        "id": "-IpWulkrZbuO",
        "outputId": "b9c6a68f-1a61-4d7f-8da8-7a1438898610"
      },
      "execution_count": 51,
      "outputs": [
        {
          "output_type": "display_data",
          "data": {
            "text/plain": [
              "<Figure size 432x288 with 1 Axes>"
            ],
            "image/png": "[encoded data removed]"
          },
          "metadata": {
            "needs_background": "light"
          }
        }
      ]
    },
    {
      "cell_type": "markdown",
      "source": [
        "This lambda function is used as the first argument to the iter function, which creates an iterator that repeatedly calls the provided function until the function returns the sentinel value []."
      ],
      "metadata": {
        "id": "Z8b07l4UZNAo"
      }
    },
    {
      "cell_type": "code",
      "source": [
        "class Matrix:\n",
        "    def __init__(self, xs): self.xs = xs\n",
        "    def __getitem__(self, idxs): return self.xs[idxs[0]][idxs[1]]"
      ],
      "metadata": {
        "id": "5mxGY4GDjJsz"
      },
      "execution_count": 52,
      "outputs": []
    },
    {
      "cell_type": "markdown",
      "source": [
        "The __init__ method is the class constructor, which is called when a new Matrix object is created. The __init__ method takes a single argument, xs, which is a list of lists containing the data for the matrix. The __init__ method assigns this list of lists to an instance variable named xs, which will be used to store the data for the matrix.\n",
        "\n",
        "The __getitem__ method is a special method that is called when the Matrix class is used with the indexing operator ([]). The __getitem__ method takes a single argument, idxs, which is a tuple containing the row and column indices of the data element to be accessed. The __getitem__ method returns the value of the data element at the specified row and column in the xs instance variable.\n",
        "\n"
      ],
      "metadata": {
        "id": "3-l3pmeLjKxp"
      }
    },
    {
      "cell_type": "code",
      "source": [
        "# Create a Matrix object with the specified data\n",
        "matrix = Matrix([[1, 2, 3], [4, 5, 6], [7, 8, 9]])\n",
        "\n",
        "# Access the element at row 1, column 2\n",
        "print(matrix[1, 2]) # prints 6"
      ],
      "metadata": {
        "colab": {
          "base_uri": "https://localhost:8080/"
        },
        "id": "r6ezgoFmjR6p",
        "outputId": "f5ba7fde-3dd3-4c85-c3a3-e22739c5bfd5"
      },
      "execution_count": 53,
      "outputs": [
        {
          "output_type": "stream",
          "name": "stdout",
          "text": [
            "6\n"
          ]
        }
      ]
    },
    {
      "cell_type": "code",
      "source": [
        "import torch\n",
        "from torch import tensor"
      ],
      "metadata": {
        "id": "z7M4F7yOkLeq"
      },
      "execution_count": 54,
      "outputs": []
    }
  ]
}